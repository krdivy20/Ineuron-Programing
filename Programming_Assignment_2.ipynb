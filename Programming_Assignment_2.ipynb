{
 "cells": [
  {
   "cell_type": "raw",
   "metadata": {},
   "source": [
    "1. Write a Python program to convert kilometers to miles?\n",
    "\n",
    "km = float(input(\"Distance in km:\",))\n",
    "miles = km*0.621371\n",
    "print(\"Distance in miles\", miles)"
   ]
  },
  {
   "cell_type": "raw",
   "metadata": {},
   "source": [
    "2. Write a Python program to convert Celsius to Fahrenheit?\n",
    "\n",
    "cel = float(input(\"Enter value in Celsius:\",))\n",
    "fah = cel*1.8 + 32\n",
    "print(\"Value in fahrenheit\", fah)"
   ]
  },
  {
   "cell_type": "raw",
   "metadata": {},
   "source": [
    "3. Write a Python program to display calendar?\n",
    "\n",
    "import calendar\n",
    "\n",
    "print(\"Calendar of year 2022:\")\n",
    "print(calendar.calendar(2022))"
   ]
  },
  {
   "cell_type": "raw",
   "metadata": {},
   "source": [
    "4. Write a Python program to solve quadratic equation?\n",
    "\n",
    "# Input the coefficents of the quadratic equation\n",
    "\n",
    "a = float(input(\"Enter the coefficient for the 2nd degree variable:\",))\n",
    "b = float(input(\"Enter the coefficient for the 1st degree variable:\",))\n",
    "c = float(input(\"Enter the constant value:\",))\n",
    "\n",
    "d = b**2 - 4*a*c  # Determinant\n",
    "\n",
    "sol_1 = (-b + d**0.5)/2*a\n",
    "sol_2 = (-b - d**0.5)/2*a\n",
    "\n",
    "print(\"Solutions for the equation are:\", sol_1, sol_2)"
   ]
  },
  {
   "cell_type": "raw",
   "metadata": {},
   "source": [
    "5. Write a Python program to swap two variables without temp variable?\n",
    "\n",
    "a = 10\n",
    "b = 20\n",
    "a = a + b\n",
    "b = a - b\n",
    "a = a - b\n",
    "\n",
    "print(a , b)"
   ]
  },
  {
   "cell_type": "code",
   "execution_count": null,
   "metadata": {},
   "outputs": [],
   "source": []
  }
 ],
 "metadata": {
  "kernelspec": {
   "display_name": "Python 3",
   "language": "python",
   "name": "python3"
  },
  "language_info": {
   "codemirror_mode": {
    "name": "ipython",
    "version": 3
   },
   "file_extension": ".py",
   "mimetype": "text/x-python",
   "name": "python",
   "nbconvert_exporter": "python",
   "pygments_lexer": "ipython3",
   "version": "3.8.3"
  }
 },
 "nbformat": 4,
 "nbformat_minor": 4
}
