{
 "cells": [
  {
   "cell_type": "code",
   "execution_count": null,
   "metadata": {},
   "outputs": [],
   "source": [
    "1. Write a Python Program to Find the Factorial of a Number?"
   ]
  },
  {
   "cell_type": "code",
   "execution_count": null,
   "metadata": {},
   "outputs": [],
   "source": [
    "num = int(input(\"Enter a positive integer:\",))\n",
    "fact = 1\n",
    "if num > 0:\n",
    "    for i in range(1, num+1):\n",
    "        fact = fact*i\n",
    "print(fact)"
   ]
  },
  {
   "cell_type": "code",
   "execution_count": null,
   "metadata": {},
   "outputs": [],
   "source": [
    "2. Write a Python Program to Display the multiplication Table?"
   ]
  },
  {
   "cell_type": "code",
   "execution_count": null,
   "metadata": {},
   "outputs": [],
   "source": [
    "num = int(input(\"Enter a positive integer:\",))\n",
    "\n",
    "if num > 0:\n",
    "    for i in range(1, 11):\n",
    "        print(num, '*', i, '=', num * i)"
   ]
  },
  {
   "cell_type": "code",
   "execution_count": null,
   "metadata": {},
   "outputs": [],
   "source": [
    "3. Write a Python Program to Print the Fibonacci sequence?"
   ]
  },
  {
   "cell_type": "code",
   "execution_count": null,
   "metadata": {},
   "outputs": [],
   "source": [
    "num = int(input(\"Enter a positive integer:\",))\n",
    "\n",
    "a = 1\n",
    "b = 1\n",
    "print(a)\n",
    "print(b)\n",
    "for i in range(2,num):\n",
    "    b = a + b\n",
    "    a = b- a\n",
    "    print(b)\n",
    "    "
   ]
  },
  {
   "cell_type": "code",
   "execution_count": null,
   "metadata": {},
   "outputs": [],
   "source": [
    "4. Write a Python Program to Check Armstrong Number?"
   ]
  },
  {
   "cell_type": "code",
   "execution_count": null,
   "metadata": {},
   "outputs": [],
   "source": [
    "num = int(input(\"Enter a positive integer:\",))\n",
    "number = num\n",
    "a = []\n",
    "count = 0\n",
    "while num != 0:\n",
    "    a.append(num%10)\n",
    "    num//= 10\n",
    "    count += 1\n",
    "arm_num = 0\n",
    "for i in a:\n",
    "    arm_num += i**count\n",
    "if number == arm_num:\n",
    "    print('Armstrong Number')\n",
    "else:\n",
    "    print('Not an armstrong number')"
   ]
  },
  {
   "cell_type": "code",
   "execution_count": null,
   "metadata": {},
   "outputs": [],
   "source": [
    "5. Write a Python Program to Find Armstrong Number in an Interval?"
   ]
  },
  {
   "cell_type": "code",
   "execution_count": null,
   "metadata": {},
   "outputs": [],
   "source": [
    "num1 = int(input(\"Enter first positive integer:\",))\n",
    "num2 = int(input(\"Enter second positive integer:\",))\n",
    "\n",
    "def arm_num(num):\n",
    "    number = num\n",
    "    a = []\n",
    "    count = 0\n",
    "    while num != 0:\n",
    "        a.append(num%10)\n",
    "        num//= 10\n",
    "        count += 1\n",
    "    arm_numm = 0\n",
    "    for i in a:\n",
    "        arm_numm += i**count\n",
    "    if number == arm_numm:\n",
    "        print(arm_numm)\n",
    "        \n",
    "for i in range(num1, num2):\n",
    "    arm_num(i)"
   ]
  },
  {
   "cell_type": "code",
   "execution_count": null,
   "metadata": {},
   "outputs": [],
   "source": [
    "6. Write a Python Program to Find the Sum of Natural Numbers?"
   ]
  },
  {
   "cell_type": "code",
   "execution_count": null,
   "metadata": {},
   "outputs": [],
   "source": [
    "num = int(input(\"Enter a positive integer:\",))\n",
    "\n",
    "sum = int(num*(num+1)*0.5)\n",
    "print(sum)"
   ]
  }
 ],
 "metadata": {
  "kernelspec": {
   "display_name": "Python 3",
   "language": "python",
   "name": "python3"
  },
  "language_info": {
   "codemirror_mode": {
    "name": "ipython",
    "version": 3
   },
   "file_extension": ".py",
   "mimetype": "text/x-python",
   "name": "python",
   "nbconvert_exporter": "python",
   "pygments_lexer": "ipython3",
   "version": "3.8.3"
  }
 },
 "nbformat": 4,
 "nbformat_minor": 4
}
